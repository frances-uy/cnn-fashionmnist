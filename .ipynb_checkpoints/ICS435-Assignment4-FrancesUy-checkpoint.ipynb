{
 "cells": [
  {
   "cell_type": "markdown",
   "id": "025a1bb6",
   "metadata": {},
   "source": [
    "# Assignment 4: Convolutional Neural Networks (CNN) for FashionMNIST"
   ]
  },
  {
   "cell_type": "markdown",
   "id": "b6d4ab92",
   "metadata": {},
   "source": [
    "**Name:** Frances Uy\n",
    "\n",
    "\n",
    "\n",
    "\n",
    "**ICS 435 Machine Learning Fundamentals**"
   ]
  },
  {
   "cell_type": "markdown",
   "id": "d3cb149a",
   "metadata": {},
   "source": [
    "**Objective:** The goal of this assignment is to implement a Convolutional Neural Network (CNN)\n",
    "to classify images from the FashionMNIST dataset. You will learn how to preprocess the data,\n",
    "build and train a CNN, and evaluate its performance.\n",
    "\n",
    "\n",
    "\n",
    "**Dataset:** FashionMNIST is a dataset of 60,000 training images and 10,000 test images, each of\n",
    "size 28x28 grayscale, categorized into 10 different fashion classes (e.g., T-shirt, dress, sneaker,\n",
    "etc.)."
   ]
  },
  {
   "cell_type": "markdown",
   "id": "ee79fdd7",
   "metadata": {},
   "source": [
    "### Imports"
   ]
  },
  {
   "cell_type": "code",
   "execution_count": 18,
   "id": "c29b379d",
   "metadata": {},
   "outputs": [
    {
     "ename": "ModuleNotFoundError",
     "evalue": "No module named 'tensorflow'",
     "output_type": "error",
     "traceback": [
      "\u001b[0;31m---------------------------------------------------------------------------\u001b[0m",
      "\u001b[0;31mModuleNotFoundError\u001b[0m                       Traceback (most recent call last)",
      "Input \u001b[0;32mIn [18]\u001b[0m, in \u001b[0;36m<cell line: 3>\u001b[0;34m()\u001b[0m\n\u001b[1;32m      1\u001b[0m \u001b[38;5;28;01mimport\u001b[39;00m \u001b[38;5;21;01mnumpy\u001b[39;00m \u001b[38;5;28;01mas\u001b[39;00m \u001b[38;5;21;01mnp\u001b[39;00m\n\u001b[1;32m      2\u001b[0m \u001b[38;5;28;01mimport\u001b[39;00m \u001b[38;5;21;01mpandas\u001b[39;00m \u001b[38;5;28;01mas\u001b[39;00m \u001b[38;5;21;01mpd\u001b[39;00m\n\u001b[0;32m----> 3\u001b[0m \u001b[38;5;28;01mimport\u001b[39;00m \u001b[38;5;21;01mtensorflow\u001b[39;00m \u001b[38;5;28;01mas\u001b[39;00m \u001b[38;5;21;01mtf\u001b[39;00m\n",
      "\u001b[0;31mModuleNotFoundError\u001b[0m: No module named 'tensorflow'"
     ]
    }
   ],
   "source": [
    "import numpy as np\n",
    "import pandas as pd\n",
    "import tensorflow as tf\n",
    "#from tensorflow.keras.datasets import mnist"
   ]
  },
  {
   "cell_type": "markdown",
   "id": "f8b79e74",
   "metadata": {},
   "source": [
    "### Part 1: Preprocessing"
   ]
  },
  {
   "cell_type": "markdown",
   "id": "28ad174b",
   "metadata": {},
   "source": [
    "**Load the FashionMNIST dataset using torchvision.datasets (for PyTorch) or\n",
    "tensorflow.keras.datasets (for TensorFlow)**"
   ]
  },
  {
   "cell_type": "code",
   "execution_count": null,
   "id": "81fb78ef",
   "metadata": {},
   "outputs": [],
   "source": []
  }
 ],
 "metadata": {
  "kernelspec": {
   "display_name": "Python 3 (ipykernel)",
   "language": "python",
   "name": "python3"
  },
  "language_info": {
   "codemirror_mode": {
    "name": "ipython",
    "version": 3
   },
   "file_extension": ".py",
   "mimetype": "text/x-python",
   "name": "python",
   "nbconvert_exporter": "python",
   "pygments_lexer": "ipython3",
   "version": "3.9.12"
  }
 },
 "nbformat": 4,
 "nbformat_minor": 5
}
